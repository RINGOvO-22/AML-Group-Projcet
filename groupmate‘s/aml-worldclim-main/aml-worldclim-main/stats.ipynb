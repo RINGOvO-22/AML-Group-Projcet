{
 "cells": [
  {
   "cell_type": "code",
   "execution_count": 2,
   "metadata": {},
   "outputs": [
    {
     "name": "stdout",
     "output_type": "stream",
     "text": [
      "activation    relu\n",
      "solver        adam\n",
      "dtype: object\n"
     ]
    }
   ],
   "source": [
    "import numpy as np\n",
    "import matplotlib.pyplot as plt\n",
    "import pandas as pd\n",
    "import ast\n",
    "from collections import Counter\n",
    "\n",
    "# load param stats\n",
    "df = pd.read_csv('test_result/per_species_MLP_best_params.csv')\n",
    "\n",
    "# Species ID,Best Parameters\n",
    "# 31529,\"{'min_samples_leaf': 1, 'min_samples_split': 2, 'n_estimators': 100}\"\n",
    "# 3117,\"{'min_samples_leaf': 4, 'min_samples_split': 2, 'n_estimators': 150}\"\n",
    "# 116872,\"{'min_samples_leaf': 1, 'min_samples_split': 5, 'n_estimators': 100}\"\n",
    "df['Best Parameters'] = df['Best Parameters'].apply(ast.literal_eval)\n",
    "params_df = pd.json_normalize(df['Best Parameters'])\n",
    "most_popular_values = params_df.apply(lambda x: Counter(x).most_common(1)[0][0])\n",
    "\n",
    "print(most_popular_values)"
   ]
  }
 ],
 "metadata": {
  "kernelspec": {
   "display_name": "Python 3",
   "language": "python",
   "name": "python3"
  },
  "language_info": {
   "codemirror_mode": {
    "name": "ipython",
    "version": 3
   },
   "file_extension": ".py",
   "mimetype": "text/x-python",
   "name": "python",
   "nbconvert_exporter": "python",
   "pygments_lexer": "ipython3",
   "version": "3.12.0"
  }
 },
 "nbformat": 4,
 "nbformat_minor": 2
}
